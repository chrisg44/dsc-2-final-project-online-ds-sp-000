{
 "cells": [
  {
   "cell_type": "code",
   "execution_count": null,
   "metadata": {},
   "outputs": [],
   "source": [
    "orders_by_month=[]\n",
    "for i in range(1,13):\n",
    "    temp = len(df_order[\"OrderDate\"].dt.month.loc[(df_order[\"OrderDate\"].dt.month == i)])\n",
    "    orders_by_month.append(temp)"
   ]
  },
  {
   "cell_type": "code",
   "execution_count": null,
   "metadata": {},
   "outputs": [],
   "source": [
    "print(orders_holiday/2)\n",
    "print(orders_non_holiday/10)\n",
    "print(orders_by_month)"
   ]
  },
  {
   "cell_type": "code",
   "execution_count": null,
   "metadata": {},
   "outputs": [],
   "source": [
    "plt.hist(orders_by_month)\n",
    "plt.xlabel('Monthly orders')\n",
    "plt.ylabel('Frequency')\n",
    "plt.show()"
   ]
  },
  {
   "cell_type": "code",
   "execution_count": null,
   "metadata": {},
   "outputs": [],
   "source": [
    "Plotting a histogram of the orders by month is not particuarly useful for such a small dataset. As a result creating a Probability Density Function (PDF) is a far more useful indicator of whether the variance in orders is significant. "
   ]
  },
  {
   "cell_type": "code",
   "execution_count": null,
   "metadata": {},
   "outputs": [],
   "source": [
    "monthly_mean = np.mean(orders_by_month)\n",
    "monthly_std = np.std(orders_by_month)\n",
    "x = range(0,150)"
   ]
  },
  {
   "cell_type": "code",
   "execution_count": null,
   "metadata": {},
   "outputs": [],
   "source": [
    "plt.plot(x, stats.norm.pdf(x, monthly_mean, monthly_std), label='PDF Monthly Orders')\n",
    "plt.axvline(orders_by_month[10], color='pink', label='Nov Orders')\n",
    "plt.axvline(orders_by_month[11], color='red', label='Dec Orders')\n",
    "plt.xlabel('Orders per month')\n",
    "plt.ylabel('Relative frequency')\n",
    "plt.title('PDF of orders per month')\n",
    "plt.legend()\n",
    "plt.show()"
   ]
  },
  {
   "cell_type": "code",
   "execution_count": null,
   "metadata": {},
   "outputs": [],
   "source": [
    "monthly_results_nov = stats.ttest_1samp(orders_by_month, orders_by_month[10])\n",
    "monthly_results_dec = stats.ttest_1samp(orders_by_month, orders_by_month[11])\n",
    "print('T-Statistic November: ' +str(round(monthly_results_nov[0],4)) + ' P-Value November: ' + str(round(monthly_results_nov[1],4)))\n",
    "print('T-Statistic December: ' +str(round(monthly_results_dec[0],4)) + ' P-Value December: ' + str(round(monthly_results_dec[1],4)))"
   ]
  },
  {
   "cell_type": "code",
   "execution_count": null,
   "metadata": {},
   "outputs": [],
   "source": [
    "print('T-Critical: ' +str(round(t.ppf(1-0.05, df=len(orders_by_month)-1),4)))"
   ]
  },
  {
   "cell_type": "code",
   "execution_count": null,
   "metadata": {},
   "outputs": [],
   "source": [
    "### Conclusion\n",
    "\n",
    "As can be seen from the histogram of orders by month the two months in question (Nov & Dec) span the mean number of monthly orders - a clear indicator that the holiday period is does not depress the order quantity with one month being above average and one being below. When considering the significance of this effect the P-Value for months is substantially greater than the significance value alpha (0.05) which indicates that this result is not significant in the dataset. When considering the t-statistic, both are below the t-critical value with the December t-statistic being negative indicating (as can be clearly seen in the histogram) that the hypothesis is not only insignificant but incorrect.\n",
    "\n",
    "Therefore the Ha is rejected and the Ho accepted indicating that there is no significant correlation between the holidays and order quantities."
   ]
  },
  {
   "cell_type": "code",
   "execution_count": null,
   "metadata": {},
   "outputs": [],
   "source": []
  },
  {
   "cell_type": "code",
   "execution_count": null,
   "metadata": {},
   "outputs": [],
   "source": [
    "# Backup questions / random stuff"
   ]
  },
  {
   "cell_type": "code",
   "execution_count": null,
   "metadata": {},
   "outputs": [],
   "source": [
    "Longer serving employees get more orders than newer employees\n",
    "Ho: longer_serving_order_quantity = shorter_serving_order_quantity Ha: longer_serving_order_quantity > shorter_serving_order_quantity"
   ]
  },
  {
   "cell_type": "code",
   "execution_count": null,
   "metadata": {},
   "outputs": [],
   "source": [
    "## Obtain"
   ]
  },
  {
   "cell_type": "code",
   "execution_count": null,
   "metadata": {},
   "outputs": [],
   "source": [
    "The data required to answer the question is contained within the Employees and Orders table"
   ]
  },
  {
   "cell_type": "code",
   "execution_count": null,
   "metadata": {},
   "outputs": [],
   "source": [
    "df_order = pd.DataFrame(cur.execute(\"\"\"SELECT EmployeeID FROM [Order]\"\"\").fetchall())"
   ]
  },
  {
   "cell_type": "code",
   "execution_count": null,
   "metadata": {},
   "outputs": [],
   "source": [
    "orders_employee = pd.DataFrame({'EmployeeId': list(df_order[0].value_counts().keys()), 'Quantity': list(df_order[0].value_counts())})\n",
    "orders_employee"
   ]
  },
  {
   "cell_type": "code",
   "execution_count": null,
   "metadata": {},
   "outputs": [],
   "source": [
    "current_date = datetime.strtime('03/01/2019', '%m/%d/%y')\n",
    "current_date.astype(\"datetime64\")"
   ]
  },
  {
   "cell_type": "code",
   "execution_count": null,
   "metadata": {},
   "outputs": [],
   "source": [
    "df_employees = pd.DataFrame(cur.execute(\"\"\"SELECT Id, HireDate FROM Employee\"\"\").fetchall())\n",
    "df_employees.columns = ['EmployeeId', 'HireDate']\n",
    "df_employees"
   ]
  },
  {
   "cell_type": "code",
   "execution_count": null,
   "metadata": {},
   "outputs": [],
   "source": [
    "df_employee_order_hire = pd.merge(df_employees, orders_employee, how='inner', on='EmployeeId')\n",
    "df_employee_order_hire "
   ]
  },
  {
   "cell_type": "code",
   "execution_count": null,
   "metadata": {},
   "outputs": [],
   "source": [
    "# Question 5"
   ]
  },
  {
   "cell_type": "code",
   "execution_count": null,
   "metadata": {},
   "outputs": [],
   "source": [
    "Ho: probability_order_again = probability_order_again_late_order Ha: probability_order_again < probability_order_again_late_order"
   ]
  },
  {
   "cell_type": "code",
   "execution_count": null,
   "metadata": {},
   "outputs": [],
   "source": [
    "df_customers = pd.DataFrame(cur.execute(\"\"\"SELECT * FROM Customer\"\"\").fetchall())\n",
    "df_customers.columns = list(map(lambda x: x[0], cur.description))\n",
    "len(df_customers)"
   ]
  },
  {
   "cell_type": "code",
   "execution_count": null,
   "metadata": {},
   "outputs": [],
   "source": [
    "df_order_late = pd.DataFrame(cur.execute(\"\"\"SELECT RequiredDate, ShippedDate, CustomerId FROM [Order]\"\"\").fetchall())\n",
    "df_order_late.columns = ['RequiredDate', 'ShippedDate', 'CustomerId']\n",
    "df_order_late['late'] = df_order_late['RequiredDate'] < df_order_late['ShippedDate']\n",
    "df_order_late_true = df_order_late.loc[df_order_late['late'] == True]\n",
    "df_order_late_true.head()"
   ]
  },
  {
   "cell_type": "code",
   "execution_count": null,
   "metadata": {},
   "outputs": [],
   "source": [
    "df_order_late['CustomerId'].value_counts()\n",
    "customer_orders = pd.DataFrame({'CustomerId': list(df_order_late['CustomerId'].value_counts().keys()), 'Quantity': list(df_order_late['CustomerId'].value_counts())})\n",
    "customer_orders.head()"
   ]
  },
  {
   "cell_type": "code",
   "execution_count": null,
   "metadata": {},
   "outputs": [],
   "source": [
    "customers_late_order = list(set(df_order_late_true['CustomerId']))\n",
    "print('Total number of late orders: ' + str(len(df_order_late_true)))\n",
    "print('Number of individual customers with late orders: ' + str(len(customers_late_order)))"
   ]
  },
  {
   "cell_type": "code",
   "execution_count": null,
   "metadata": {},
   "outputs": [],
   "source": [
    "for j in range(len(df_order_late)):\n",
    "    temp = []\n",
    "    if df_order_late['CustomerId'][j] == customers_late_order[i]:\n",
    "        temp.append(df_order_late['RequiredDate'][j])"
   ]
  },
  {
   "cell_type": "code",
   "execution_count": null,
   "metadata": {},
   "outputs": [],
   "source": [
    "for i in customers_late_order:\n",
    "    customer_profile = []\n",
    "    for j in range(len(df_order_late)):\n",
    "        temp = []\n",
    "        if df_order_late['CustomerId'][j] == customers_late_order[i]:\n",
    "            temp.append(df_order_late['RequiredDate'][j])\n",
    "        customer_profile.append(temp)"
   ]
  },
  {
   "cell_type": "code",
   "execution_count": null,
   "metadata": {},
   "outputs": [],
   "source": []
  },
  {
   "cell_type": "code",
   "execution_count": null,
   "metadata": {},
   "outputs": [],
   "source": []
  }
 ],
 "metadata": {
  "kernelspec": {
   "display_name": "Python 3",
   "language": "python",
   "name": "python3"
  },
  "language_info": {
   "codemirror_mode": {
    "name": "ipython",
    "version": 3
   },
   "file_extension": ".py",
   "mimetype": "text/x-python",
   "name": "python",
   "nbconvert_exporter": "python",
   "pygments_lexer": "ipython3",
   "version": "3.7.0"
  }
 },
 "nbformat": 4,
 "nbformat_minor": 2
}
