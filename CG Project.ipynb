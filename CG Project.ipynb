{
 "cells": [
  {
   "cell_type": "markdown",
   "metadata": {},
   "source": [
    "# Module 2 Project"
   ]
  },
  {
   "cell_type": "markdown",
   "metadata": {},
   "source": [
    "## Questions"
   ]
  },
  {
   "cell_type": "markdown",
   "metadata": {},
   "source": [
    "The significance will be defined as the probability that the mean of a given sample will meet the Ho criteria less than 5% of the time. i.e. alpha value will be set at 0.05"
   ]
  },
  {
   "cell_type": "markdown",
   "metadata": {},
   "source": [
    "### Question 1"
   ]
  },
  {
   "cell_type": "markdown",
   "metadata": {},
   "source": [
    "Do discounts have a statistically significant effect on the number of products customers order? If so, at what level(s) of discount?\n",
    "\n",
    "    Ho: mean_quantity_undiscounted = mean_quantity_discounted\n",
    "    \n",
    "    Ha (1-tailed): mean_quantity_undiscounted > mean_quantity_discounted\n",
    "\n",
    "**Conclusion**\n",
    "For all discount levels the null hypothesis can be rejected (both T-Values and P-Values exceed the pre-defined thresholds), a discount does increase the order quantity."
   ]
  },
  {
   "cell_type": "markdown",
   "metadata": {},
   "source": [
    "### Question 2"
   ]
  },
  {
   "cell_type": "markdown",
   "metadata": {},
   "source": [
    "Does the holiday period (defined as November and December) has a statistically significant negative impact on the number of orders placed?\n",
    "\n",
    "    Ho: mean_order_quantity_holidays = mean_order_quantity_restyear\n",
    "\n",
    "    Ha (1-tailed): mean_order_quantity_holidays < mean_order_quantity_restyear\n",
    "\n",
    "**Conclusion**\n",
    "As can be seen from the histogram of orders by month the two months in question (Nov & Dec) span the mean number of monthly orders - a clear indicator that the holiday period is does not depress the order quantity with one month being above average and one being below. When considering the significance of this effect the P-Value for months is substantially greater than the significance value alpha (0.05) which indicates that this result is not significant in the dataset. When considering the t-statistic, both are below the t-critical value with the December t-statistic being negative indicating (as can be clearly seen in the histogram) that the hypothesis is not only insignificant but incorrect.\n",
    "\n",
    "Therefore the Ha is rejected and the Ho accepted indicating that there is no significant correlation between the holidays and order quantities."
   ]
  },
  {
   "cell_type": "markdown",
   "metadata": {},
   "source": [
    "### Question 3"
   ]
  },
  {
   "cell_type": "markdown",
   "metadata": {},
   "source": [
    "Do lower priced items have statistically significant higher order volumes?\n",
    "\n",
    "    Ho: mean_order_quantity_low_price = mean_order_quantity_high_price\n",
    "\n",
    "    Ha (1-tailed): mean_order_quantity_low_price > mean_order_quantity_high_price\n",
    "\n",
    "**Conclusion**\n",
    "The T-Value is greater than the T-Critical Value and the P value is less than alpha (0.05) therefore the Null Hypothesis (Ho) can be rejected and the alternative Ha accepted; lower priced items do have higher sales volumes."
   ]
  },
  {
   "cell_type": "markdown",
   "metadata": {},
   "source": [
    "### Question 4"
   ]
  },
  {
   "cell_type": "markdown",
   "metadata": {},
   "source": [
    "Does mean order quantity vary by region by a statistically significant amount?\n",
    "\n",
    "    Ho: mean_order_size = average_mean_order_size_by region \n",
    "\n",
    "    Ha(2-tailed): mean_order_size = average_mean_order_size_by region\n",
    "\n",
    "**Conclusion**\n",
    "All areas but the British Isles and Northern Europe exceed the thresholds for P-Value (alpha =0.05) and T-Value (greater than T-Critical). As a result the null hypothesis is rejected and the alternative it is accepted as true that the average order size does vary by region for the significance values specified."
   ]
  },
  {
   "cell_type": "markdown",
   "metadata": {},
   "source": [
    "### Question 5"
   ]
  },
  {
   "cell_type": "markdown",
   "metadata": {},
   "source": [
    "Does increasing order quantity have a statistically significant correlation with increasing freight cost?\n",
    "\n",
    "    Ho: large_quantity_freight_cost = small_quantity_freight_cost\n",
    "    \n",
    "    Ha(1-tailed): large_quantity_freight_cost > small_quantity_freight_cost\n",
    "   \n",
    "**Conclusion**\n",
    "Both the T-Value and the P-Value are substantially above/below the thresholds set for confirming significance. The T-Value exceeds the T-Crtical Value and the P-Value is below the Alpha value of 0.05. Therefore it can be confirmed that the order quantity does have a correlation with the freight cost."
   ]
  },
  {
   "cell_type": "code",
   "execution_count": null,
   "metadata": {},
   "outputs": [],
   "source": []
  },
  {
   "cell_type": "markdown",
   "metadata": {},
   "source": [
    "# Notebook Setup"
   ]
  },
  {
   "cell_type": "code",
   "execution_count": null,
   "metadata": {},
   "outputs": [],
   "source": [
    "import sqlite3 \n",
    "import pandas as pd\n",
    "import matplotlib.pyplot as plt\n",
    "import numpy as np\n",
    "from scipy.stats import ttest_ind\n",
    "import datetime"
   ]
  },
  {
   "cell_type": "code",
   "execution_count": 3,
   "metadata": {},
   "outputs": [],
   "source": [
    "import sqlite3 \n",
    "import pandas as pd\n",
    "import matplotlib.pyplot as plt\n",
    "import numpy as np\n",
    "from sklearn.linear_model import LinearRegression \n",
    "from scipy.stats import ttest_ind\n",
    "from scipy.stats import t\n",
    "from scipy import stats\n",
    "import datetime\n",
    "import seaborn as sns"
   ]
  },
  {
   "cell_type": "markdown",
   "metadata": {},
   "source": [
    "The dataset is held in a sqlite database; therefore the first task is to connect to the database. Once connected data will be imported and stored as Pandas Dataframes."
   ]
  },
  {
   "cell_type": "code",
   "execution_count": 4,
   "metadata": {},
   "outputs": [],
   "source": [
    "connection = sqlite3.connect('Northwind_small.sqlite') \n",
    "cur = connection.cursor()"
   ]
  },
  {
   "cell_type": "markdown",
   "metadata": {},
   "source": [
    "It is important to check whether the Schema is accurate or not; to do this the table names will be request from the database directly."
   ]
  },
  {
   "cell_type": "code",
   "execution_count": 5,
   "metadata": {},
   "outputs": [
    {
     "name": "stdout",
     "output_type": "stream",
     "text": [
      "[('Employee',), ('Category',), ('Customer',), ('Shipper',), ('Supplier',), ('Order',), ('Product',), ('OrderDetail',), ('CustomerCustomerDemo',), ('CustomerDemographic',), ('Region',), ('Territory',), ('EmployeeTerritory',)]\n"
     ]
    }
   ],
   "source": [
    "cur.execute(\"SELECT name FROM sqlite_master WHERE type='table';\")\n",
    "print(cur.fetchall())"
   ]
  },
  {
   "cell_type": "markdown",
   "metadata": {},
   "source": [
    "It is clear that there are some errors in the schema largely relating to pluralisation of the table names"
   ]
  },
  {
   "cell_type": "markdown",
   "metadata": {},
   "source": [
    "# Question 1"
   ]
  },
  {
   "cell_type": "markdown",
   "metadata": {},
   "source": [
    "## Obtain"
   ]
  },
  {
   "cell_type": "markdown",
   "metadata": {},
   "source": [
    "This question primarily concerns itself with the size of the order and the discount being offered. This information is held within the table \"Order Detail\""
   ]
  },
  {
   "cell_type": "code",
   "execution_count": 6,
   "metadata": {},
   "outputs": [],
   "source": [
    "df_order_detail = pd.DataFrame(cur.execute(\"\"\"SELECT * FROM OrderDetail\"\"\").fetchall())"
   ]
  },
  {
   "cell_type": "code",
   "execution_count": 7,
   "metadata": {},
   "outputs": [],
   "source": [
    "df_order_detail.columns = list(map(lambda x: x[0], cur.description))"
   ]
  },
  {
   "cell_type": "code",
   "execution_count": 8,
   "metadata": {
    "scrolled": true
   },
   "outputs": [
    {
     "data": {
      "text/html": [
       "<div>\n",
       "<style scoped>\n",
       "    .dataframe tbody tr th:only-of-type {\n",
       "        vertical-align: middle;\n",
       "    }\n",
       "\n",
       "    .dataframe tbody tr th {\n",
       "        vertical-align: top;\n",
       "    }\n",
       "\n",
       "    .dataframe thead th {\n",
       "        text-align: right;\n",
       "    }\n",
       "</style>\n",
       "<table border=\"1\" class=\"dataframe\">\n",
       "  <thead>\n",
       "    <tr style=\"text-align: right;\">\n",
       "      <th></th>\n",
       "      <th>Id</th>\n",
       "      <th>OrderId</th>\n",
       "      <th>ProductId</th>\n",
       "      <th>UnitPrice</th>\n",
       "      <th>Quantity</th>\n",
       "      <th>Discount</th>\n",
       "    </tr>\n",
       "  </thead>\n",
       "  <tbody>\n",
       "    <tr>\n",
       "      <th>0</th>\n",
       "      <td>10248/11</td>\n",
       "      <td>10248</td>\n",
       "      <td>11</td>\n",
       "      <td>14.0</td>\n",
       "      <td>12</td>\n",
       "      <td>0.0</td>\n",
       "    </tr>\n",
       "    <tr>\n",
       "      <th>1</th>\n",
       "      <td>10248/42</td>\n",
       "      <td>10248</td>\n",
       "      <td>42</td>\n",
       "      <td>9.8</td>\n",
       "      <td>10</td>\n",
       "      <td>0.0</td>\n",
       "    </tr>\n",
       "    <tr>\n",
       "      <th>2</th>\n",
       "      <td>10248/72</td>\n",
       "      <td>10248</td>\n",
       "      <td>72</td>\n",
       "      <td>34.8</td>\n",
       "      <td>5</td>\n",
       "      <td>0.0</td>\n",
       "    </tr>\n",
       "    <tr>\n",
       "      <th>3</th>\n",
       "      <td>10249/14</td>\n",
       "      <td>10249</td>\n",
       "      <td>14</td>\n",
       "      <td>18.6</td>\n",
       "      <td>9</td>\n",
       "      <td>0.0</td>\n",
       "    </tr>\n",
       "    <tr>\n",
       "      <th>4</th>\n",
       "      <td>10249/51</td>\n",
       "      <td>10249</td>\n",
       "      <td>51</td>\n",
       "      <td>42.4</td>\n",
       "      <td>40</td>\n",
       "      <td>0.0</td>\n",
       "    </tr>\n",
       "  </tbody>\n",
       "</table>\n",
       "</div>"
      ],
      "text/plain": [
       "         Id  OrderId  ProductId  UnitPrice  Quantity  Discount\n",
       "0  10248/11    10248         11       14.0        12       0.0\n",
       "1  10248/42    10248         42        9.8        10       0.0\n",
       "2  10248/72    10248         72       34.8         5       0.0\n",
       "3  10249/14    10249         14       18.6         9       0.0\n",
       "4  10249/51    10249         51       42.4        40       0.0"
      ]
     },
     "execution_count": 8,
     "metadata": {},
     "output_type": "execute_result"
    }
   ],
   "source": [
    "df_order_detail.head()"
   ]
  },
  {
   "cell_type": "markdown",
   "metadata": {},
   "source": [
    "## Scrub"
   ]
  },
  {
   "cell_type": "markdown",
   "metadata": {},
   "source": [
    "Initial scrubbing of the data set will be identify any values in the dataset which are NaN / placeholder /incorrect etc. Firstly this will be done only to the Quantity and Discount columns as these are the primary concern."
   ]
  },
  {
   "cell_type": "code",
   "execution_count": 9,
   "metadata": {
    "scrolled": true
   },
   "outputs": [
    {
     "data": {
      "text/plain": [
       "20     252\n",
       "30     194\n",
       "10     181\n",
       "15     169\n",
       "40     113\n",
       "12      92\n",
       "6       87\n",
       "25      80\n",
       "50      75\n",
       "35      71\n",
       "5       67\n",
       "24      58\n",
       "60      58\n",
       "4       55\n",
       "2       52\n",
       "21      50\n",
       "8       50\n",
       "18      47\n",
       "3       46\n",
       "14      36\n",
       "16      35\n",
       "9       30\n",
       "28      29\n",
       "70      28\n",
       "7       23\n",
       "36      21\n",
       "42      19\n",
       "1       17\n",
       "80      16\n",
       "45      14\n",
       "100     10\n",
       "55       9\n",
       "120      8\n",
       "65       8\n",
       "49       7\n",
       "48       5\n",
       "32       5\n",
       "44       4\n",
       "90       4\n",
       "13       3\n",
       "77       3\n",
       "110      3\n",
       "56       3\n",
       "84       2\n",
       "11       2\n",
       "27       2\n",
       "33       2\n",
       "39       2\n",
       "130      2\n",
       "63       1\n",
       "66       1\n",
       "22       1\n",
       "52       1\n",
       "54       1\n",
       "91       1\n",
       "Name: Quantity, dtype: int64"
      ]
     },
     "execution_count": 9,
     "metadata": {},
     "output_type": "execute_result"
    }
   ],
   "source": [
    "df_order_detail['Quantity'].value_counts()"
   ]
  },
  {
   "cell_type": "code",
   "execution_count": 10,
   "metadata": {
    "scrolled": false
   },
   "outputs": [
    {
     "data": {
      "text/plain": [
       "0.00    1317\n",
       "0.05     185\n",
       "0.10     173\n",
       "0.20     161\n",
       "0.15     157\n",
       "0.25     154\n",
       "0.03       3\n",
       "0.02       2\n",
       "0.01       1\n",
       "0.04       1\n",
       "0.06       1\n",
       "Name: Discount, dtype: int64"
      ]
     },
     "execution_count": 10,
     "metadata": {},
     "output_type": "execute_result"
    }
   ],
   "source": [
    "df_order_detail['Discount'].value_counts()"
   ]
  },
  {
   "cell_type": "code",
   "execution_count": 11,
   "metadata": {},
   "outputs": [
    {
     "data": {
      "text/plain": [
       "True"
      ]
     },
     "execution_count": 11,
     "metadata": {},
     "output_type": "execute_result"
    }
   ],
   "source": [
    "len(df_order_detail['Discount']) == len(df_order_detail['Quantity'])"
   ]
  },
  {
   "cell_type": "markdown",
   "metadata": {},
   "source": [
    "Both of these datasets appear to be complete with no NaN, obvious placeholders or incorrect values"
   ]
  },
  {
   "cell_type": "markdown",
   "metadata": {},
   "source": [
    "## Explore"
   ]
  },
  {
   "cell_type": "code",
   "execution_count": 12,
   "metadata": {
    "scrolled": true
   },
   "outputs": [
    {
     "data": {
      "image/png": "[encoded data removed]",
      "text/plain": [
       "<Figure size 432x288 with 1 Axes>"
      ]
     },
     "metadata": {
      "needs_background": "light"
     },
     "output_type": "display_data"
    }
   ],
   "source": [
    "#Probably delete\n",
    "plt.scatter(df_order_detail['Discount'], df_order_detail['Quantity'])\n",
    "plt.xlabel('Discount')\n",
    "plt.ylabel('Quantity')\n",
    "plt.title('Discount / Quantity of Orders')\n",
    "plt.show()\n"
   ]
  },
  {
   "cell_type": "code",
   "execution_count": 13,
   "metadata": {},
   "outputs": [],
   "source": [
    "df_discount_0 = df_order_detail.loc[df_order_detail['Discount'] == 0]\n",
    "df_discount_not0 = df_order_detail.loc[df_order_detail['Discount'] != 0]"
   ]
  },
  {
   "cell_type": "code",
   "execution_count": 14,
   "metadata": {
    "scrolled": false
   },
   "outputs": [
    {
     "name": "stdout",
     "output_type": "stream",
     "text": [
      "All data\n",
      "Mean quantity: 23.81   Variance: 361.67\n",
      "When discount = 0\n",
      "Mean quantity: 21.72   Variance: 306.28\n",
      "When discount > 0\n",
      "Mean quantity: 27.11   Variance: 430.94\n"
     ]
    },
    {
     "data": {
      "image/png": "[encoded data removed]",
      "text/plain": [
       "<Figure size 432x288 with 1 Axes>"
      ]
     },
     "metadata": {
      "needs_background": "light"
     },
     "output_type": "display_data"
    }
   ],
   "source": [
    "print('All data')\n",
    "print('Mean quantity: '+ str(round(np.mean(df_order_detail['Quantity']),2))+ '   Variance: ' + str(round(np.var(df_order_detail['Quantity']),2)))\n",
    "print('When discount = 0')\n",
    "print('Mean quantity: '+ str(round(np.mean(df_discount_0['Quantity']),2))+ '   Variance: ' + str(round(np.var(df_discount_0['Quantity']),2)))\n",
    "print('When discount > 0')\n",
    "print('Mean quantity: '+ str(round(np.mean(df_discount_not0['Quantity']),2))+ '   Variance: ' + str(round(np.var(df_discount_not0['Quantity']),2)))\n",
    "plt.hist(df_order_detail['Quantity'], alpha=0.5, bins=15, label='All data', density=True)\n",
    "plt.hist(df_discount_0['Quantity'], alpha=0.5, bins=15, color='red', label='Discount = 0', density=True)\n",
    "plt.hist(df_discount_not0['Quantity'], alpha=0.5, bins=15, color='green', label='Discount > 0', density=True)\n",
    "df_order_detail['Quantity'].plot.kde(label='All Data KDE')\n",
    "df_discount_0['Quantity'].plot.kde(label='Discount = 0 KDE')\n",
    "df_discount_not0['Quantity'].plot.kde(label='Discount > 0 KDE')\n",
    "plt.axvline(np.mean(df_order_detail['Quantity']), color='blue', label='Mean All Data')\n",
    "plt.axvline(np.mean(df_discount_0['Quantity']), color='red', label='Mean Discount =0')\n",
    "plt.axvline(np.mean(df_discount_not0['Quantity']), color='green', label='Mean Discount >0')\n",
    "plt.xlim(0)\n",
    "plt.xlabel('Quantity')\n",
    "plt.ylabel('Frequency')\n",
    "plt.title('Quantity Histogram')\n",
    "plt.legend()\n",
    "plt.show()"
   ]
  },
  {
   "cell_type": "markdown",
   "metadata": {},
   "source": [
    "When considering the effect of the size of the discount on the order quantity the 5 most common discount quantities will be used."
   ]
  },
  {
   "cell_type": "code",
   "execution_count": 15,
   "metadata": {
    "scrolled": false
   },
   "outputs": [
    {
     "name": "stdout",
     "output_type": "stream",
     "text": [
      "All data\n",
      "Mean quantity: 23.81   Variance: 361.67\n",
      "Discount:0\n",
      "Mean quantity: 21.72   Variance: 306.28\n",
      "Discount:0.05\n",
      "Mean quantity: 28.01   Variance: 489.63\n",
      "Discount:0.1\n",
      "Mean quantity: 25.24   Variance: 446.27\n",
      "Discount:0.15\n",
      "Mean quantity: 28.38   Variance: 434.99\n",
      "Discount:0.2\n",
      "Mean quantity: 27.02   Variance: 352.47\n",
      "Discount:0.25\n",
      "Mean quantity: 28.24   Variance: 402.21\n"
     ]
    },
    {
     "data": {
      "image/png": "[encoded data removed]",
      "text/plain": [
       "<Figure size 432x288 with 1 Axes>"
      ]
     },
     "metadata": {
      "needs_background": "light"
     },
     "output_type": "display_data"
    }
   ],
   "source": [
    "discounts = [0,0.05,0.10,0.15,0.20,0.25]\n",
    "mean_quantity = []\n",
    "print('All data')\n",
    "print('Mean quantity: '+ str(round(np.mean(df_order_detail['Quantity']),2))+ '   Variance: ' + str(round(np.var(df_order_detail['Quantity']),2)))\n",
    "plt.hist(df_order_detail['Quantity'], alpha=0.5, bins=15, label='All data', density=True)\n",
    "for i in discounts:\n",
    "    temp = df_order_detail.loc[df_order_detail['Discount'] == i]\n",
    "    print('Discount:' + str(i))\n",
    "    print('Mean quantity: '+ str(round(np.mean(temp['Quantity']),2))+ '   Variance: ' + str(round(np.var(temp['Quantity']),2)))\n",
    "    plt.hist(temp['Quantity'], alpha=0.5, bins=15, label='All data', density=True)\n",
    "    temp['Quantity'].plot.kde(label=('KDE Discount='+str(i)))\n",
    "    mean_quantity.append(round(np.mean(temp['Quantity']),2))\n",
    "\n",
    "plt.xlim(0)\n",
    "plt.xlabel('Quantity')\n",
    "plt.ylabel('Frequency')\n",
    "plt.title('Quantity Histogram')\n",
    "plt.legend()\n",
    "plt.show()"
   ]
  },
  {
   "cell_type": "markdown",
   "metadata": {},
   "source": [
    "Plotting the mean quantity against the discount shows a postive, relatively linear relationship. Which would seem to indicate that the null hypothesis can be rejected."
   ]
  },
  {
   "cell_type": "markdown",
   "metadata": {},
   "source": [
    "## Model"
   ]
  },
  {
   "cell_type": "markdown",
   "metadata": {},
   "source": [
    "To confirm rejection of the null hypothesis the t-values and p-values for each discount levels will be calculated."
   ]
  },
  {
   "cell_type": "code",
   "execution_count": 51,
   "metadata": {},
   "outputs": [
    {
     "data": {
      "image/png": "[encoded data removed]",
      "text/plain": [
       "<Figure size 432x288 with 1 Axes>"
      ]
     },
     "metadata": {
      "needs_background": "light"
     },
     "output_type": "display_data"
    }
   ],
   "source": [
    "from numpy.polynomial.polynomial import polyfit \n",
    "\n",
    "x = np.array(discounts) \n",
    "y = np.array(mean_quantity) \n",
    "# Fit with polyfit function to get m(intercept) and b(slope) . the degree parameter = 1 to show astraight line \n",
    "b, m = polyfit(x, y, 1) \n",
    "# Plot the data points and line calculated from ployfit \n",
    "plt.plot(x, y, 'o', label='Data set') \n",
    "plt.plot(x, b + (m * x), '-', label='Model') \n",
    "plt.xticks(x) \n",
    "plt.xlabel('Discount %')\n",
    "plt.ylabel('Quantity')\n",
    "plt.title('Discount % against mean quantity ordered')\n",
    "plt.legend()\n",
    "plt.show()"
   ]
  },
  {
   "cell_type": "markdown",
   "metadata": {},
   "source": [
    "## Interpret"
   ]
  },
  {
   "cell_type": "code",
   "execution_count": 17,
   "metadata": {},
   "outputs": [],
   "source": [
    "t_values = []\n",
    "p_values = []\n",
    "for i in discounts[1:6]:\n",
    "    results = ttest_ind(df_order_detail.loc[df_order_detail['Discount'] == i]['Quantity'],df_discount_0['Quantity'])\n",
    "    t_values.append((i, results[0]))\n",
    "    p_values.append((i, round(results[1]/2, 8)))"
   ]
  },
  {
   "cell_type": "code",
   "execution_count": 18,
   "metadata": {},
   "outputs": [
    {
     "data": {
      "text/plain": [
       "[(0.05, 5.32e-06),\n",
       " (0.1, 0.0077503),\n",
       " (0.15, 5.51e-06),\n",
       " (0.2, 0.00016316),\n",
       " (0.25, 8.9e-06)]"
      ]
     },
     "execution_count": 18,
     "metadata": {},
     "output_type": "execute_result"
    }
   ],
   "source": [
    "p_values"
   ]
  },
  {
   "cell_type": "markdown",
   "metadata": {},
   "source": [
    "All of the p-values are smaller than confidence level alpha (0.05) therefore the Ho (Null Hypothesis) can be rejected."
   ]
  },
  {
   "cell_type": "code",
   "execution_count": 19,
   "metadata": {},
   "outputs": [
    {
     "data": {
      "text/plain": [
       "[(0.05, 4.418557901446638),\n",
       " (0.1, 2.423258752228738),\n",
       " (0.15, 4.411192556207304),\n",
       " (0.2, 3.6019486047561884),\n",
       " (0.25, 4.304937285665697)]"
      ]
     },
     "execution_count": 19,
     "metadata": {},
     "output_type": "execute_result"
    }
   ],
   "source": [
    "t_values"
   ]
  },
  {
   "cell_type": "code",
   "execution_count": 20,
   "metadata": {},
   "outputs": [
    {
     "data": {
      "text/plain": [
       "1.6455613468643528"
      ]
     },
     "execution_count": 20,
     "metadata": {},
     "output_type": "execute_result"
    }
   ],
   "source": [
    "t.ppf(1-0.05, df=len(df_order_detail)-1)"
   ]
  },
  {
   "cell_type": "markdown",
   "metadata": {},
   "source": [
    "All of the t-values are greater than the T-Critical value therefore the Ho (Null Hypothesis) can be rejected."
   ]
  },
  {
   "cell_type": "markdown",
   "metadata": {},
   "source": [
    "### Conclusions\n"
   ]
  },
  {
   "cell_type": "markdown",
   "metadata": {},
   "source": [
    "# Question 2"
   ]
  },
  {
   "cell_type": "markdown",
   "metadata": {},
   "source": [
    "## Obtain"
   ]
  },
  {
   "cell_type": "code",
   "execution_count": 32,
   "metadata": {},
   "outputs": [],
   "source": [
    "df_order = pd.DataFrame(cur.execute(\"\"\"SELECT OrderDate FROM [Order]\"\"\").fetchall())\n",
    "names = list(map(lambda x: x[0], cur.description))\n",
    "df_order.columns = names"
   ]
  },
  {
   "cell_type": "markdown",
   "metadata": {},
   "source": [
    "## Scrub"
   ]
  },
  {
   "cell_type": "code",
   "execution_count": 33,
   "metadata": {},
   "outputs": [
    {
     "name": "stdout",
     "output_type": "stream",
     "text": [
      "<class 'pandas.core.frame.DataFrame'>\n",
      "RangeIndex: 830 entries, 0 to 829\n",
      "Data columns (total 1 columns):\n",
      "OrderDate    830 non-null object\n",
      "dtypes: object(1)\n",
      "memory usage: 6.6+ KB\n"
     ]
    }
   ],
   "source": [
    "df_order.info()"
   ]
  },
  {
   "cell_type": "code",
   "execution_count": 34,
   "metadata": {
    "scrolled": true
   },
   "outputs": [
    {
     "data": {
      "text/html": [
       "<div>\n",
       "<style scoped>\n",
       "    .dataframe tbody tr th:only-of-type {\n",
       "        vertical-align: middle;\n",
       "    }\n",
       "\n",
       "    .dataframe tbody tr th {\n",
       "        vertical-align: top;\n",
       "    }\n",
       "\n",
       "    .dataframe thead th {\n",
       "        text-align: right;\n",
       "    }\n",
       "</style>\n",
       "<table border=\"1\" class=\"dataframe\">\n",
       "  <thead>\n",
       "    <tr style=\"text-align: right;\">\n",
       "      <th></th>\n",
       "      <th>OrderDate</th>\n",
       "    </tr>\n",
       "  </thead>\n",
       "  <tbody>\n",
       "    <tr>\n",
       "      <th>0</th>\n",
       "      <td>2012-07-04</td>\n",
       "    </tr>\n",
       "    <tr>\n",
       "      <th>1</th>\n",
       "      <td>2012-07-05</td>\n",
       "    </tr>\n",
       "    <tr>\n",
       "      <th>2</th>\n",
       "      <td>2012-07-08</td>\n",
       "    </tr>\n",
       "    <tr>\n",
       "      <th>3</th>\n",
       "      <td>2012-07-08</td>\n",
       "    </tr>\n",
       "    <tr>\n",
       "      <th>4</th>\n",
       "      <td>2012-07-09</td>\n",
       "    </tr>\n",
       "  </tbody>\n",
       "</table>\n",
       "</div>"
      ],
      "text/plain": [
       "    OrderDate\n",
       "0  2012-07-04\n",
       "1  2012-07-05\n",
       "2  2012-07-08\n",
       "3  2012-07-08\n",
       "4  2012-07-09"
      ]
     },
     "execution_count": 34,
     "metadata": {},
     "output_type": "execute_result"
    }
   ],
   "source": [
    "df_order.head()"
   ]
  },
  {
   "cell_type": "code",
   "execution_count": 36,
   "metadata": {},
   "outputs": [],
   "source": [
    "df_order[\"OrderDate\"] = df_order[\"OrderDate\"].astype(\"datetime64\")"
   ]
  },
  {
   "cell_type": "code",
   "execution_count": 29,
   "metadata": {},
   "outputs": [
    {
     "data": {
      "text/plain": [
       "0"
      ]
     },
     "execution_count": 29,
     "metadata": {},
     "output_type": "execute_result"
    }
   ],
   "source": [
    "sum(df_order[\"OrderDate\"].isna())"
   ]
  },
  {
   "cell_type": "markdown",
   "metadata": {},
   "source": [
    "## Explore"
   ]
  },
  {
   "cell_type": "code",
   "execution_count": 41,
   "metadata": {},
   "outputs": [],
   "source": [
    "monthly_mean = np.mean(orders_by_month)\n",
    "monthly_std = np.std(orders_by_month)\n",
    "x = range(0,150)"
   ]
  },
  {
   "cell_type": "code",
   "execution_count": 45,
   "metadata": {
    "scrolled": true
   },
   "outputs": [
    {
     "data": {
      "image/png": "[encoded data removed]",
      "text/plain": [
       "<Figure size 432x288 with 1 Axes>"
      ]
     },
     "metadata": {
      "needs_background": "light"
     },
     "output_type": "display_data"
    }
   ],
   "source": [
    "x_names = ['Jan','Feb','Mar', 'Apr', 'May', 'Jun', 'Jul', 'Aug', 'Sep', 'Oct', 'Nov', 'Dec']\n",
    "df_order[\"OrderDate\"].groupby(df_order[\"OrderDate\"].dt.month).count().plot(kind=\"bar\", label='_nolegend_')\n",
    "plt.ylabel('Frequency')\n",
    "plt.title('Orders frequencies by month')\n",
    "plt.xticks(range(0,12), x_names)\n",
    "plt.axhline(monthly_mean, color='red', label='Mean number of orders')\n",
    "plt.legend()\n",
    "plt.show()"
   ]
  },
  {
   "cell_type": "code",
   "execution_count": 26,
   "metadata": {},
   "outputs": [],
   "source": [
    "orders_by_month=[]\n",
    "for i in range(1,13):\n",
    "    temp = len(df_order[\"OrderDate\"].dt.month.loc[(df_order[\"OrderDate\"].dt.month == i)])\n",
    "    orders_by_month.append(temp)"
   ]
  },
  {
   "cell_type": "code",
   "execution_count": 27,
   "metadata": {},
   "outputs": [
    {
     "name": "stdout",
     "output_type": "stream",
     "text": [
      "[88, 83, 103, 105, 46, 30, 55, 58, 60, 64, 59, 79]\n"
     ]
    }
   ],
   "source": [
    "print(orders_by_month)"
   ]
  },
  {
   "cell_type": "code",
   "execution_count": 28,
   "metadata": {},
   "outputs": [
    {
     "data": {
      "image/png": "[encoded data removed]",
      "text/plain": [
       "<Figure size 432x288 with 1 Axes>"
      ]
     },
     "metadata": {
      "needs_background": "light"
     },
     "output_type": "display_data"
    }
   ],
   "source": [
    "plt.hist(orders_by_month)\n",
    "plt.xlabel('Monthly orders')\n",
    "plt.ylabel('Frequency')\n",
    "plt.show()"
   ]
  },
  {
   "cell_type": "markdown",
   "metadata": {},
   "source": [
    "Plotting a histogram of the orders by month is not particuarly useful for such a small dataset. As a result creating a Probability Density Function (PDF) is a far more useful indicator of whether the variance in orders is significant. "
   ]
  },
  {
   "cell_type": "markdown",
   "metadata": {},
   "source": [
    "## Model"
   ]
  },
  {
   "cell_type": "code",
   "execution_count": 29,
   "metadata": {
    "scrolled": true
   },
   "outputs": [
    {
     "data": {
      "image/png": "[encoded data removed]",
      "text/plain": [
       "<Figure size 432x288 with 1 Axes>"
      ]
     },
     "metadata": {
      "needs_background": "light"
     },
     "output_type": "display_data"
    }
   ],
   "source": [
    "plt.plot(x, stats.norm.pdf(x, monthly_mean, monthly_std), label='PDF Monthly Orders')\n",
    "plt.axvline(orders_by_month[10], color='pink', label='Nov Orders')\n",
    "plt.axvline(orders_by_month[11], color='red', label='Dec Orders')\n",
    "plt.xlabel('Orders per month')\n",
    "plt.ylabel('Relative frequency')\n",
    "plt.title('PDF of orders per month')\n",
    "plt.legend()\n",
    "plt.show()"
   ]
  },
  {
   "cell_type": "markdown",
   "metadata": {},
   "source": [
    "## Interpret"
   ]
  },
  {
   "cell_type": "code",
   "execution_count": 47,
   "metadata": {},
   "outputs": [
    {
     "name": "stdout",
     "output_type": "stream",
     "text": [
      "T-Statistic November: 1.5496\n",
      " P-Value November: 0.1495\n",
      "T-Statistic December: -1.4988\n",
      " P-Value December: 0.1621\n"
     ]
    }
   ],
   "source": [
    "monthly_results_nov = stats.ttest_1samp(orders_by_month, orders_by_month[10])\n",
    "monthly_results_dec = stats.ttest_1samp(orders_by_month, orders_by_month[11])\n",
    "print('T-Statistic November: ' +str(round(monthly_results_nov[0],4)))\n",
    "print(' P-Value November: ' + str(round(monthly_results_nov[1],4)))\n",
    "print('T-Statistic December: ' +str(round(monthly_results_dec[0],4)))\n",
    "print(' P-Value December: ' + str(round(monthly_results_dec[1],4)))"
   ]
  },
  {
   "cell_type": "code",
   "execution_count": 31,
   "metadata": {},
   "outputs": [
    {
     "name": "stdout",
     "output_type": "stream",
     "text": [
      "T-Critical: 1.7959\n"
     ]
    }
   ],
   "source": [
    "print('T-Critical: ' +str(round(t.ppf(1-0.05, df=len(orders_by_month)-1),4)))"
   ]
  },
  {
   "cell_type": "markdown",
   "metadata": {},
   "source": [
    "### Conclusion\n",
    "\n",
    "As can be seen from the PDF plot of orders by month the two months in question (Nov & Dec) span the mean number of monthly orders - a clear indicator that the holiday period is does not depress the order quantity with one month being above average and one being below. When considering the significance of this effect the P-Value for months is substantially greater than the significance value alpha (0.05) which indicates that this result is not significant in the dataset. When considering the t-statistic, both are below the t-critical value with the December t-statistic being negative indicating (as can be clearly seen in the histogram) that the hypothesis is not only insignificant but incorrect.\n",
    "\n",
    "Therefore the Ha is rejected and the Ho accepted indicating that there is no significant correlation between the holidays and order quantities."
   ]
  },
  {
   "cell_type": "markdown",
   "metadata": {},
   "source": [
    "# Question 3"
   ]
  },
  {
   "cell_type": "markdown",
   "metadata": {},
   "source": [
    "## Obtain & Scrub"
   ]
  },
  {
   "cell_type": "markdown",
   "metadata": {},
   "source": [
    "The data required to answer question 3 is from the same table as question 1; so can reuse the df from question 1"
   ]
  },
  {
   "cell_type": "code",
   "execution_count": 32,
   "metadata": {
    "scrolled": true
   },
   "outputs": [
    {
     "data": {
      "text/html": [
       "<div>\n",
       "<style scoped>\n",
       "    .dataframe tbody tr th:only-of-type {\n",
       "        vertical-align: middle;\n",
       "    }\n",
       "\n",
       "    .dataframe tbody tr th {\n",
       "        vertical-align: top;\n",
       "    }\n",
       "\n",
       "    .dataframe thead th {\n",
       "        text-align: right;\n",
       "    }\n",
       "</style>\n",
       "<table border=\"1\" class=\"dataframe\">\n",
       "  <thead>\n",
       "    <tr style=\"text-align: right;\">\n",
       "      <th></th>\n",
       "      <th>Id</th>\n",
       "      <th>OrderId</th>\n",
       "      <th>ProductId</th>\n",
       "      <th>UnitPrice</th>\n",
       "      <th>Quantity</th>\n",
       "      <th>Discount</th>\n",
       "    </tr>\n",
       "  </thead>\n",
       "  <tbody>\n",
       "    <tr>\n",
       "      <th>0</th>\n",
       "      <td>10248/11</td>\n",
       "      <td>10248</td>\n",
       "      <td>11</td>\n",
       "      <td>14.0</td>\n",
       "      <td>12</td>\n",
       "      <td>0.0</td>\n",
       "    </tr>\n",
       "    <tr>\n",
       "      <th>1</th>\n",
       "      <td>10248/42</td>\n",
       "      <td>10248</td>\n",
       "      <td>42</td>\n",
       "      <td>9.8</td>\n",
       "      <td>10</td>\n",
       "      <td>0.0</td>\n",
       "    </tr>\n",
       "    <tr>\n",
       "      <th>2</th>\n",
       "      <td>10248/72</td>\n",
       "      <td>10248</td>\n",
       "      <td>72</td>\n",
       "      <td>34.8</td>\n",
       "      <td>5</td>\n",
       "      <td>0.0</td>\n",
       "    </tr>\n",
       "    <tr>\n",
       "      <th>3</th>\n",
       "      <td>10249/14</td>\n",
       "      <td>10249</td>\n",
       "      <td>14</td>\n",
       "      <td>18.6</td>\n",
       "      <td>9</td>\n",
       "      <td>0.0</td>\n",
       "    </tr>\n",
       "    <tr>\n",
       "      <th>4</th>\n",
       "      <td>10249/51</td>\n",
       "      <td>10249</td>\n",
       "      <td>51</td>\n",
       "      <td>42.4</td>\n",
       "      <td>40</td>\n",
       "      <td>0.0</td>\n",
       "    </tr>\n",
       "  </tbody>\n",
       "</table>\n",
       "</div>"
      ],
      "text/plain": [
       "         Id  OrderId  ProductId  UnitPrice  Quantity  Discount\n",
       "0  10248/11    10248         11       14.0        12       0.0\n",
       "1  10248/42    10248         42        9.8        10       0.0\n",
       "2  10248/72    10248         72       34.8         5       0.0\n",
       "3  10249/14    10249         14       18.6         9       0.0\n",
       "4  10249/51    10249         51       42.4        40       0.0"
      ]
     },
     "execution_count": 32,
     "metadata": {},
     "output_type": "execute_result"
    }
   ],
   "source": [
    "df_order_detail.head()"
   ]
  },
  {
   "cell_type": "markdown",
   "metadata": {},
   "source": [
    "## Explore"
   ]
  },
  {
   "cell_type": "markdown",
   "metadata": {},
   "source": [
    "In considering the question the key initial decision is defining low and high. Initially the mean of the dataset will be used to split."
   ]
  },
  {
   "cell_type": "code",
   "execution_count": 39,
   "metadata": {},
   "outputs": [],
   "source": [
    "mean_price = np.mean(df_order_detail['UnitPrice'])\n",
    "low_price = df_order_detail.loc[df_order_detail['UnitPrice'] < mean_price]\n",
    "high_price = df_order_detail.loc[df_order_detail['UnitPrice'] > mean_price]"
   ]
  },
  {
   "cell_type": "markdown",
   "metadata": {},
   "source": [
    "## Model"
   ]
  },
  {
   "cell_type": "code",
   "execution_count": 40,
   "metadata": {
    "scrolled": false
   },
   "outputs": [
    {
     "name": "stdout",
     "output_type": "stream",
     "text": [
      "All data\n",
      "Mean quantity: 23.81   Variance: 361.67\n",
      "Low Price\n",
      "Mean quantity: 21.72   Variance: 306.28\n",
      "High Price\n",
      "Mean quantity: 27.11   Variance: 430.94\n"
     ]
    },
    {
     "data": {
      "image/png": "[encoded data removed]",
      "text/plain": [
       "<Figure size 432x288 with 1 Axes>"
      ]
     },
     "metadata": {
      "needs_background": "light"
     },
     "output_type": "display_data"
    }
   ],
   "source": [
    "print('All data')\n",
    "print('Mean quantity: '+ str(round(np.mean(df_order_detail['Quantity']),2))+ '   Variance: ' + str(round(np.var(df_order_detail['Quantity']),2)))\n",
    "print('Low Price')\n",
    "print('Mean quantity: '+ str(round(np.mean(df_discount_0['Quantity']),2))+ '   Variance: ' + str(round(np.var(df_discount_0['Quantity']),2)))\n",
    "print('High Price')\n",
    "print('Mean quantity: '+ str(round(np.mean(df_discount_not0['Quantity']),2))+ '   Variance: ' + str(round(np.var(df_discount_not0['Quantity']),2)))\n",
    "plt.hist(df_order_detail['Quantity'], alpha=0.5, bins=15, label='All data', density=True)\n",
    "plt.hist(low_price['Quantity'], alpha=0.5, bins=15, color='red', label='Discount = 0', density=True)\n",
    "plt.hist(high_price['Quantity'], alpha=0.5, bins=15, color='green', label='Discount > 0', density=True)\n",
    "df_order_detail['Quantity'].plot.kde(label='All Data KDE')\n",
    "df_discount_0['Quantity'].plot.kde(label='Low Price KDE')\n",
    "df_discount_not0['Quantity'].plot.kde(label='High Price KDE')\n",
    "plt.axvline(np.mean(df_order_detail['Quantity']), color='blue', label='Mean All Data')\n",
    "plt.axvline(np.mean(low_price['Quantity']), color='red', label='Mean Low Price')\n",
    "plt.axvline(np.mean(high_price['Quantity']), color='green', label='Mean High Price')\n",
    "plt.xlim(0)\n",
    "plt.xlabel('Quantity')\n",
    "plt.ylabel('Frequency')\n",
    "plt.title('Quantity Histogram')\n",
    "plt.legend()\n",
    "plt.show()"
   ]
  },
  {
   "cell_type": "code",
   "execution_count": 41,
   "metadata": {},
   "outputs": [
    {
     "data": {
      "image/png": "[encoded data removed]",
      "text/plain": [
       "<Figure size 432x288 with 1 Axes>"
      ]
     },
     "metadata": {
      "needs_background": "light"
     },
     "output_type": "display_data"
    }
   ],
   "source": [
    "df_order_detail['Quantity'].plot.kde(label='All Data Quantity Curve')\n",
    "df_discount_0['Quantity'].plot.kde(label='Low Price Quantity Curve')\n",
    "df_discount_not0['Quantity'].plot.kde(label='High Price Quantity Curve')\n",
    "plt.xlim(0)\n",
    "plt.xlabel('Quantity')\n",
    "plt.ylabel('Proportion of Orders')\n",
    "plt.title('Quantity for Low / High Price Splits')\n",
    "plt.legend()\n",
    "plt.show()"
   ]
  },
  {
   "cell_type": "markdown",
   "metadata": {},
   "source": [
    "## Interpret"
   ]
  },
  {
   "cell_type": "code",
   "execution_count": 42,
   "metadata": {},
   "outputs": [
    {
     "name": "stdout",
     "output_type": "stream",
     "text": [
      "T Value: 2.689162973045262\n",
      "P Value: 0.00360318\n"
     ]
    }
   ],
   "source": [
    "results = ttest_ind(low_price['Quantity'],df_discount_0['Quantity'])\n",
    "t_values_price_quantity = results[0]\n",
    "p_values_price_quantity = round(results[1]/2, 8)\n",
    "print('T Value: ' + str(t_values_price_quantity))\n",
    "print('P Value: ' + str(p_values_price_quantity))"
   ]
  },
  {
   "cell_type": "code",
   "execution_count": 43,
   "metadata": {},
   "outputs": [
    {
     "name": "stdout",
     "output_type": "stream",
     "text": [
      "T-Critical: 1.6455613468643528\n"
     ]
    }
   ],
   "source": [
    "print('T-Critical: ' + str(t.ppf(1-0.05, df=len(df_order_detail)-1)))"
   ]
  },
  {
   "cell_type": "markdown",
   "metadata": {},
   "source": [
    "The T-Value is greater than the T-Critical Value and the P value is less than alpha (0.05) therefore the Null Hypothesis can be rejected in both cases."
   ]
  },
  {
   "cell_type": "markdown",
   "metadata": {},
   "source": [
    "# Question 4"
   ]
  },
  {
   "cell_type": "markdown",
   "metadata": {},
   "source": [
    "Does mean order quantity vary by region?\n",
    "\n",
    "Ho: mean_order_size = average_mean_order_size_by region   Ha(two-tailed): mean_order_size = average_mean_order_size_by region"
   ]
  },
  {
   "cell_type": "markdown",
   "metadata": {},
   "source": [
    "## Obtain & Scrub"
   ]
  },
  {
   "cell_type": "markdown",
   "metadata": {},
   "source": [
    "The required data is contained between the Order and OrderDetail tables, this will be compliled into a single dataframe using an inner join."
   ]
  },
  {
   "cell_type": "code",
   "execution_count": 44,
   "metadata": {
    "scrolled": true
   },
   "outputs": [
    {
     "data": {
      "text/html": [
       "<div>\n",
       "<style scoped>\n",
       "    .dataframe tbody tr th:only-of-type {\n",
       "        vertical-align: middle;\n",
       "    }\n",
       "\n",
       "    .dataframe tbody tr th {\n",
       "        vertical-align: top;\n",
       "    }\n",
       "\n",
       "    .dataframe thead th {\n",
       "        text-align: right;\n",
       "    }\n",
       "</style>\n",
       "<table border=\"1\" class=\"dataframe\">\n",
       "  <thead>\n",
       "    <tr style=\"text-align: right;\">\n",
       "      <th></th>\n",
       "      <th>ShipRegion</th>\n",
       "      <th>Quantity</th>\n",
       "    </tr>\n",
       "  </thead>\n",
       "  <tbody>\n",
       "    <tr>\n",
       "      <th>0</th>\n",
       "      <td>Western Europe</td>\n",
       "      <td>12</td>\n",
       "    </tr>\n",
       "    <tr>\n",
       "      <th>1</th>\n",
       "      <td>Western Europe</td>\n",
       "      <td>10</td>\n",
       "    </tr>\n",
       "    <tr>\n",
       "      <th>2</th>\n",
       "      <td>Western Europe</td>\n",
       "      <td>5</td>\n",
       "    </tr>\n",
       "    <tr>\n",
       "      <th>3</th>\n",
       "      <td>Western Europe</td>\n",
       "      <td>9</td>\n",
       "    </tr>\n",
       "    <tr>\n",
       "      <th>4</th>\n",
       "      <td>Western Europe</td>\n",
       "      <td>40</td>\n",
       "    </tr>\n",
       "  </tbody>\n",
       "</table>\n",
       "</div>"
      ],
      "text/plain": [
       "       ShipRegion  Quantity\n",
       "0  Western Europe        12\n",
       "1  Western Europe        10\n",
       "2  Western Europe         5\n",
       "3  Western Europe         9\n",
       "4  Western Europe        40"
      ]
     },
     "execution_count": 44,
     "metadata": {},
     "output_type": "execute_result"
    }
   ],
   "source": [
    "df_order_region = pd.DataFrame(cur.execute(\"\"\"select ShipRegion, Quantity from [Order] JOIN OrderDetail on [Order].Id = OrderDetail.OrderId\"\"\").fetchall())\n",
    "df_order_region.columns = [i[0] for i in cur.description]\n",
    "df_order_region.head()"
   ]
  },
  {
   "cell_type": "code",
   "execution_count": 45,
   "metadata": {
    "scrolled": true
   },
   "outputs": [
    {
     "data": {
      "text/plain": [
       "Western Europe     745\n",
       "North America      427\n",
       "South America      355\n",
       "British Isles      190\n",
       "Northern Europe    143\n",
       "Southern Europe    137\n",
       "Central America     72\n",
       "Scandinavia         70\n",
       "Eastern Europe      16\n",
       "Name: ShipRegion, dtype: int64"
      ]
     },
     "execution_count": 45,
     "metadata": {},
     "output_type": "execute_result"
    }
   ],
   "source": [
    "df_order_region['ShipRegion'].value_counts()"
   ]
  },
  {
   "cell_type": "code",
   "execution_count": 46,
   "metadata": {
    "scrolled": true
   },
   "outputs": [
    {
     "data": {
      "text/plain": [
       "20     252\n",
       "30     194\n",
       "10     181\n",
       "15     169\n",
       "40     113\n",
       "12      92\n",
       "6       87\n",
       "25      80\n",
       "50      75\n",
       "35      71\n",
       "5       67\n",
       "24      58\n",
       "60      58\n",
       "4       55\n",
       "2       52\n",
       "21      50\n",
       "8       50\n",
       "18      47\n",
       "3       46\n",
       "14      36\n",
       "16      35\n",
       "9       30\n",
       "28      29\n",
       "70      28\n",
       "7       23\n",
       "36      21\n",
       "42      19\n",
       "1       17\n",
       "80      16\n",
       "45      14\n",
       "100     10\n",
       "55       9\n",
       "120      8\n",
       "65       8\n",
       "49       7\n",
       "48       5\n",
       "32       5\n",
       "44       4\n",
       "90       4\n",
       "13       3\n",
       "77       3\n",
       "110      3\n",
       "56       3\n",
       "84       2\n",
       "11       2\n",
       "27       2\n",
       "33       2\n",
       "39       2\n",
       "130      2\n",
       "63       1\n",
       "66       1\n",
       "22       1\n",
       "52       1\n",
       "54       1\n",
       "91       1\n",
       "Name: Quantity, dtype: int64"
      ]
     },
     "execution_count": 46,
     "metadata": {},
     "output_type": "execute_result"
    }
   ],
   "source": [
    "df_order_region['Quantity'].value_counts()"
   ]
  },
  {
   "cell_type": "markdown",
   "metadata": {},
   "source": [
    "Neither of the key datasets have any NaN, 0 or obvious placeholder values."
   ]
  },
  {
   "cell_type": "markdown",
   "metadata": {},
   "source": [
    "## Explore"
   ]
  },
  {
   "cell_type": "markdown",
   "metadata": {},
   "source": [
    "Initially some basic parameters such as the mean of the dataset will be established and a histogram plotted."
   ]
  },
  {
   "cell_type": "code",
   "execution_count": 47,
   "metadata": {},
   "outputs": [
    {
     "name": "stdout",
     "output_type": "stream",
     "text": [
      "Mean order quantity: 23.81\n"
     ]
    }
   ],
   "source": [
    "print('Mean order quantity: ' +str(round(df_order_region['Quantity'].mean(),2)))"
   ]
  },
  {
   "cell_type": "code",
   "execution_count": 48,
   "metadata": {
    "scrolled": true
   },
   "outputs": [
    {
     "data": {
      "image/png": "[encoded data removed]",
      "text/plain": [
       "<Figure size 432x288 with 1 Axes>"
      ]
     },
     "metadata": {
      "needs_background": "light"
     },
     "output_type": "display_data"
    }
   ],
   "source": [
    "plt.hist(df_order_region['Quantity'], label='Full Data Set')\n",
    "plt.xlabel('Order Size')\n",
    "plt.legend()\n",
    "plt.show()"
   ]
  },
  {
   "cell_type": "markdown",
   "metadata": {},
   "source": [
    "The histogram shows that the data is positively skewed, with some outliers. Next the mean for each of the parameters will be established a plot of the full data set with overlaid a kde plot and the mean order size of the various regions."
   ]
  },
  {
   "cell_type": "code",
   "execution_count": 49,
   "metadata": {
    "scrolled": false
   },
   "outputs": [
    {
     "data": {
      "text/html": [
       "<div>\n",
       "<style scoped>\n",
       "    .dataframe tbody tr th:only-of-type {\n",
       "        vertical-align: middle;\n",
       "    }\n",
       "\n",
       "    .dataframe tbody tr th {\n",
       "        vertical-align: top;\n",
       "    }\n",
       "\n",
       "    .dataframe thead th {\n",
       "        text-align: right;\n",
       "    }\n",
       "</style>\n",
       "<table border=\"1\" class=\"dataframe\">\n",
       "  <thead>\n",
       "    <tr style=\"text-align: right;\">\n",
       "      <th></th>\n",
       "      <th>Quantity</th>\n",
       "    </tr>\n",
       "    <tr>\n",
       "      <th>ShipRegion</th>\n",
       "      <th></th>\n",
       "    </tr>\n",
       "  </thead>\n",
       "  <tbody>\n",
       "    <tr>\n",
       "      <th>British Isles</th>\n",
       "      <td>23.294737</td>\n",
       "    </tr>\n",
       "    <tr>\n",
       "      <th>Central America</th>\n",
       "      <td>14.236111</td>\n",
       "    </tr>\n",
       "    <tr>\n",
       "      <th>Eastern Europe</th>\n",
       "      <td>12.812500</td>\n",
       "    </tr>\n",
       "    <tr>\n",
       "      <th>North America</th>\n",
       "      <td>26.496487</td>\n",
       "    </tr>\n",
       "    <tr>\n",
       "      <th>Northern Europe</th>\n",
       "      <td>23.811189</td>\n",
       "    </tr>\n",
       "    <tr>\n",
       "      <th>Scandinavia</th>\n",
       "      <td>14.942857</td>\n",
       "    </tr>\n",
       "    <tr>\n",
       "      <th>South America</th>\n",
       "      <td>21.188732</td>\n",
       "    </tr>\n",
       "    <tr>\n",
       "      <th>Southern Europe</th>\n",
       "      <td>15.131387</td>\n",
       "    </tr>\n",
       "    <tr>\n",
       "      <th>Western Europe</th>\n",
       "      <td>27.249664</td>\n",
       "    </tr>\n",
       "  </tbody>\n",
       "</table>\n",
       "</div>"
      ],
      "text/plain": [
       "                  Quantity\n",
       "ShipRegion                \n",
       "British Isles    23.294737\n",
       "Central America  14.236111\n",
       "Eastern Europe   12.812500\n",
       "North America    26.496487\n",
       "Northern Europe  23.811189\n",
       "Scandinavia      14.942857\n",
       "South America    21.188732\n",
       "Southern Europe  15.131387\n",
       "Western Europe   27.249664"
      ]
     },
     "execution_count": 49,
     "metadata": {},
     "output_type": "execute_result"
    }
   ],
   "source": [
    "df_quantity_region = df_order_region.groupby([\"ShipRegion\"]).mean()\n",
    "df_quantity_region"
   ]
  },
  {
   "cell_type": "code",
   "execution_count": 50,
   "metadata": {
    "scrolled": false
   },
   "outputs": [
    {
     "name": "stderr",
     "output_type": "stream",
     "text": [
      "C:\\Users\\chris\\Anaconda3\\lib\\site-packages\\scipy\\stats\\stats.py:1713: FutureWarning: Using a non-tuple sequence for multidimensional indexing is deprecated; use `arr[tuple(seq)]` instead of `arr[seq]`. In the future this will be interpreted as an array index, `arr[np.array(seq)]`, which will result either in an error or a different result.\n",
      "  return np.add.reduce(sorted[indexer] * weights, axis=axis) / sumval\n"
     ]
    },
    {
     "data": {
      "image/png": "[encoded data removed]",
      "text/plain": [
       "<Figure size 432x288 with 1 Axes>"
      ]
     },
     "metadata": {
      "needs_background": "light"
     },
     "output_type": "display_data"
    }
   ],
   "source": [
    "sns.distplot(df_order_region['Quantity'], bins=20)\n",
    "for i in range(len(df_quantity_region)):\n",
    "    plt.axvline(df_quantity_region['Quantity'][i], color=np.random.rand(3,), label='Mean '+df_quantity_region['Quantity'].keys()[i])\n",
    "plt.xlabel('Mean order size')\n",
    "plt.ylabel('Relative frequency')\n",
    "plt.title('Order sizes')\n",
    "plt.legend()\n",
    "plt.legend(loc='center left', bbox_to_anchor=(1, 0.5))\n",
    "plt.show()"
   ]
  },
  {
   "cell_type": "markdown",
   "metadata": {},
   "source": [
    "## Model"
   ]
  },
  {
   "cell_type": "markdown",
   "metadata": {},
   "source": [
    "To evaluate the hypothesis the P-Value and the T-Value will be calculated, and then compared against Alpha and T_Critical"
   ]
  },
  {
   "cell_type": "code",
   "execution_count": 51,
   "metadata": {},
   "outputs": [],
   "source": [
    "region_t_value = []\n",
    "region_p_value = []\n",
    "for i in range(len(df_quantity_region['Quantity'])):\n",
    "    temp = stats.ttest_1samp(df_order_region['Quantity'], df_quantity_region['Quantity'][i])\n",
    "    region_t_value.append(round(temp[0],3))\n",
    "    region_p_value.append(round(temp[1],4))\n"
   ]
  },
  {
   "cell_type": "code",
   "execution_count": 52,
   "metadata": {},
   "outputs": [
    {
     "data": {
      "text/plain": [
       "ShipRegion\n",
       "British Isles      23.294737\n",
       "Central America    14.236111\n",
       "Eastern Europe     12.812500\n",
       "North America      26.496487\n",
       "Northern Europe    23.811189\n",
       "Scandinavia        14.942857\n",
       "South America      21.188732\n",
       "Southern Europe    15.131387\n",
       "Western Europe     27.249664\n",
       "Name: Quantity, dtype: float64"
      ]
     },
     "execution_count": 52,
     "metadata": {},
     "output_type": "execute_result"
    }
   ],
   "source": [
    "df_quantity_region['Quantity']"
   ]
  },
  {
   "cell_type": "code",
   "execution_count": 53,
   "metadata": {},
   "outputs": [
    {
     "data": {
      "text/html": [
       "<div>\n",
       "<style scoped>\n",
       "    .dataframe tbody tr th:only-of-type {\n",
       "        vertical-align: middle;\n",
       "    }\n",
       "\n",
       "    .dataframe tbody tr th {\n",
       "        vertical-align: top;\n",
       "    }\n",
       "\n",
       "    .dataframe thead th {\n",
       "        text-align: right;\n",
       "    }\n",
       "</style>\n",
       "<table border=\"1\" class=\"dataframe\">\n",
       "  <thead>\n",
       "    <tr style=\"text-align: right;\">\n",
       "      <th></th>\n",
       "      <th>Mean</th>\n",
       "      <th>T-Value</th>\n",
       "      <th>P-Value</th>\n",
       "    </tr>\n",
       "    <tr>\n",
       "      <th>ShipRegion</th>\n",
       "      <th></th>\n",
       "      <th></th>\n",
       "      <th></th>\n",
       "    </tr>\n",
       "  </thead>\n",
       "  <tbody>\n",
       "    <tr>\n",
       "      <th>British Isles</th>\n",
       "      <td>23.29</td>\n",
       "      <td>1.265</td>\n",
       "      <td>0.2061</td>\n",
       "    </tr>\n",
       "    <tr>\n",
       "      <th>Central America</th>\n",
       "      <td>14.24</td>\n",
       "      <td>23.372</td>\n",
       "      <td>0.0000</td>\n",
       "    </tr>\n",
       "    <tr>\n",
       "      <th>Eastern Europe</th>\n",
       "      <td>12.81</td>\n",
       "      <td>26.846</td>\n",
       "      <td>0.0000</td>\n",
       "    </tr>\n",
       "    <tr>\n",
       "      <th>North America</th>\n",
       "      <td>26.50</td>\n",
       "      <td>-6.549</td>\n",
       "      <td>0.0000</td>\n",
       "    </tr>\n",
       "    <tr>\n",
       "      <th>Northern Europe</th>\n",
       "      <td>23.81</td>\n",
       "      <td>0.004</td>\n",
       "      <td>0.9965</td>\n",
       "    </tr>\n",
       "    <tr>\n",
       "      <th>Scandinavia</th>\n",
       "      <td>14.94</td>\n",
       "      <td>21.647</td>\n",
       "      <td>0.0000</td>\n",
       "    </tr>\n",
       "    <tr>\n",
       "      <th>South America</th>\n",
       "      <td>21.19</td>\n",
       "      <td>6.404</td>\n",
       "      <td>0.0000</td>\n",
       "    </tr>\n",
       "    <tr>\n",
       "      <th>Southern Europe</th>\n",
       "      <td>15.13</td>\n",
       "      <td>21.187</td>\n",
       "      <td>0.0000</td>\n",
       "    </tr>\n",
       "    <tr>\n",
       "      <th>Western Europe</th>\n",
       "      <td>27.25</td>\n",
       "      <td>-8.387</td>\n",
       "      <td>0.0000</td>\n",
       "    </tr>\n",
       "  </tbody>\n",
       "</table>\n",
       "</div>"
      ],
      "text/plain": [
       "                  Mean  T-Value  P-Value\n",
       "ShipRegion                              \n",
       "British Isles    23.29    1.265   0.2061\n",
       "Central America  14.24   23.372   0.0000\n",
       "Eastern Europe   12.81   26.846   0.0000\n",
       "North America    26.50   -6.549   0.0000\n",
       "Northern Europe  23.81    0.004   0.9965\n",
       "Scandinavia      14.94   21.647   0.0000\n",
       "South America    21.19    6.404   0.0000\n",
       "Southern Europe  15.13   21.187   0.0000\n",
       "Western Europe   27.25   -8.387   0.0000"
      ]
     },
     "execution_count": 53,
     "metadata": {},
     "output_type": "execute_result"
    }
   ],
   "source": [
    "region_results = pd.DataFrame({'Mean': round(df_quantity_region['Quantity'],2), 'T-Value': region_t_value, 'P-Value': region_p_value})\n",
    "region_results"
   ]
  },
  {
   "cell_type": "code",
   "execution_count": 54,
   "metadata": {},
   "outputs": [
    {
     "data": {
      "text/html": [
       "<div>\n",
       "<style scoped>\n",
       "    .dataframe tbody tr th:only-of-type {\n",
       "        vertical-align: middle;\n",
       "    }\n",
       "\n",
       "    .dataframe tbody tr th {\n",
       "        vertical-align: top;\n",
       "    }\n",
       "\n",
       "    .dataframe thead th {\n",
       "        text-align: right;\n",
       "    }\n",
       "</style>\n",
       "<table border=\"1\" class=\"dataframe\">\n",
       "  <thead>\n",
       "    <tr style=\"text-align: right;\">\n",
       "      <th></th>\n",
       "      <th>Mean</th>\n",
       "      <th>T-Value</th>\n",
       "      <th>P-Value</th>\n",
       "    </tr>\n",
       "    <tr>\n",
       "      <th>ShipRegion</th>\n",
       "      <th></th>\n",
       "      <th></th>\n",
       "      <th></th>\n",
       "    </tr>\n",
       "  </thead>\n",
       "  <tbody>\n",
       "    <tr>\n",
       "      <th>Eastern Europe</th>\n",
       "      <td>12.81</td>\n",
       "      <td>26.846</td>\n",
       "      <td>0.0000</td>\n",
       "    </tr>\n",
       "    <tr>\n",
       "      <th>Central America</th>\n",
       "      <td>14.24</td>\n",
       "      <td>23.372</td>\n",
       "      <td>0.0000</td>\n",
       "    </tr>\n",
       "    <tr>\n",
       "      <th>Scandinavia</th>\n",
       "      <td>14.94</td>\n",
       "      <td>21.647</td>\n",
       "      <td>0.0000</td>\n",
       "    </tr>\n",
       "    <tr>\n",
       "      <th>Southern Europe</th>\n",
       "      <td>15.13</td>\n",
       "      <td>21.187</td>\n",
       "      <td>0.0000</td>\n",
       "    </tr>\n",
       "    <tr>\n",
       "      <th>South America</th>\n",
       "      <td>21.19</td>\n",
       "      <td>6.404</td>\n",
       "      <td>0.0000</td>\n",
       "    </tr>\n",
       "    <tr>\n",
       "      <th>British Isles</th>\n",
       "      <td>23.29</td>\n",
       "      <td>1.265</td>\n",
       "      <td>0.2061</td>\n",
       "    </tr>\n",
       "    <tr>\n",
       "      <th>Northern Europe</th>\n",
       "      <td>23.81</td>\n",
       "      <td>0.004</td>\n",
       "      <td>0.9965</td>\n",
       "    </tr>\n",
       "    <tr>\n",
       "      <th>North America</th>\n",
       "      <td>26.50</td>\n",
       "      <td>-6.549</td>\n",
       "      <td>0.0000</td>\n",
       "    </tr>\n",
       "    <tr>\n",
       "      <th>Western Europe</th>\n",
       "      <td>27.25</td>\n",
       "      <td>-8.387</td>\n",
       "      <td>0.0000</td>\n",
       "    </tr>\n",
       "  </tbody>\n",
       "</table>\n",
       "</div>"
      ],
      "text/plain": [
       "                  Mean  T-Value  P-Value\n",
       "ShipRegion                              \n",
       "Eastern Europe   12.81   26.846   0.0000\n",
       "Central America  14.24   23.372   0.0000\n",
       "Scandinavia      14.94   21.647   0.0000\n",
       "Southern Europe  15.13   21.187   0.0000\n",
       "South America    21.19    6.404   0.0000\n",
       "British Isles    23.29    1.265   0.2061\n",
       "Northern Europe  23.81    0.004   0.9965\n",
       "North America    26.50   -6.549   0.0000\n",
       "Western Europe   27.25   -8.387   0.0000"
      ]
     },
     "execution_count": 54,
     "metadata": {},
     "output_type": "execute_result"
    }
   ],
   "source": [
    "region_results.sort_values('Mean')"
   ]
  },
  {
   "cell_type": "code",
   "execution_count": 55,
   "metadata": {},
   "outputs": [
    {
     "name": "stdout",
     "output_type": "stream",
     "text": [
      "T-Critical: 1.6455613468643528\n"
     ]
    }
   ],
   "source": [
    "print('T-Critical: ' + str(t.ppf(1-0.05, df=len(df_order_region)-1)))"
   ]
  },
  {
   "cell_type": "markdown",
   "metadata": {},
   "source": [
    "#### Conclusion"
   ]
  },
  {
   "cell_type": "markdown",
   "metadata": {},
   "source": [
    "For all areas but the British Isles and Northern Europe exceeding the thresholds for P-Value (alpha =0.05) and T-Values exceeding the T-Critical value it is true that the average order size does vary by region for the significance values specified. "
   ]
  },
  {
   "cell_type": "markdown",
   "metadata": {},
   "source": [
    "# Question 5"
   ]
  },
  {
   "cell_type": "code",
   "execution_count": 56,
   "metadata": {},
   "outputs": [
    {
     "ename": "SyntaxError",
     "evalue": "invalid syntax (<ipython-input-56-b2531ea0126d>, line 2)",
     "output_type": "error",
     "traceback": [
      "\u001b[1;36m  File \u001b[1;32m\"<ipython-input-56-b2531ea0126d>\"\u001b[1;36m, line \u001b[1;32m2\u001b[0m\n\u001b[1;33m    Ho: large_quantity_freight_cost = small_quantity_freight_cost Ha(one-tailed): large_quantity_freight_cost > small_quantity_freight_cost\u001b[0m\n\u001b[1;37m                                                                   ^\u001b[0m\n\u001b[1;31mSyntaxError\u001b[0m\u001b[1;31m:\u001b[0m invalid syntax\n"
     ]
    }
   ],
   "source": [
    "Does increasing order size increase freight cost?\n",
    "Ho: large_quantity_freight_cost = small_quantity_freight_cost Ha(one-tailed): large_quantity_freight_cost > small_quantity_freight_cost"
   ]
  },
  {
   "cell_type": "markdown",
   "metadata": {},
   "source": [
    "## Obtain & Scrub"
   ]
  },
  {
   "cell_type": "code",
   "execution_count": 57,
   "metadata": {
    "scrolled": false
   },
   "outputs": [
    {
     "data": {
      "text/html": [
       "<div>\n",
       "<style scoped>\n",
       "    .dataframe tbody tr th:only-of-type {\n",
       "        vertical-align: middle;\n",
       "    }\n",
       "\n",
       "    .dataframe tbody tr th {\n",
       "        vertical-align: top;\n",
       "    }\n",
       "\n",
       "    .dataframe thead th {\n",
       "        text-align: right;\n",
       "    }\n",
       "</style>\n",
       "<table border=\"1\" class=\"dataframe\">\n",
       "  <thead>\n",
       "    <tr style=\"text-align: right;\">\n",
       "      <th></th>\n",
       "      <th>Freight</th>\n",
       "      <th>Quantity</th>\n",
       "    </tr>\n",
       "  </thead>\n",
       "  <tbody>\n",
       "    <tr>\n",
       "      <th>0</th>\n",
       "      <td>32.38</td>\n",
       "      <td>12</td>\n",
       "    </tr>\n",
       "    <tr>\n",
       "      <th>1</th>\n",
       "      <td>32.38</td>\n",
       "      <td>10</td>\n",
       "    </tr>\n",
       "    <tr>\n",
       "      <th>2</th>\n",
       "      <td>32.38</td>\n",
       "      <td>5</td>\n",
       "    </tr>\n",
       "    <tr>\n",
       "      <th>3</th>\n",
       "      <td>11.61</td>\n",
       "      <td>9</td>\n",
       "    </tr>\n",
       "    <tr>\n",
       "      <th>4</th>\n",
       "      <td>11.61</td>\n",
       "      <td>40</td>\n",
       "    </tr>\n",
       "  </tbody>\n",
       "</table>\n",
       "</div>"
      ],
      "text/plain": [
       "   Freight  Quantity\n",
       "0    32.38        12\n",
       "1    32.38        10\n",
       "2    32.38         5\n",
       "3    11.61         9\n",
       "4    11.61        40"
      ]
     },
     "execution_count": 57,
     "metadata": {},
     "output_type": "execute_result"
    }
   ],
   "source": [
    "df_freight_quantity = pd.DataFrame(cur.execute(\"\"\"select Freight, Quantity from [Order] JOIN OrderDetail on [Order].Id = OrderDetail.OrderId\"\"\").fetchall())\n",
    "df_freight_quantity.columns = [i[0] for i in cur.description]\n",
    "df_freight_quantity.head()"
   ]
  },
  {
   "cell_type": "markdown",
   "metadata": {},
   "source": [
    "Before using the dataset some prelimary analaysis will be used to identify any issues with the dataset - looking for NaN, errors, placeholders etc."
   ]
  },
  {
   "cell_type": "code",
   "execution_count": 58,
   "metadata": {
    "scrolled": false
   },
   "outputs": [
    {
     "name": "stdout",
     "output_type": "stream",
     "text": [
      "<class 'pandas.core.frame.DataFrame'>\n",
      "RangeIndex: 2155 entries, 0 to 2154\n",
      "Data columns (total 2 columns):\n",
      "Freight     2155 non-null float64\n",
      "Quantity    2155 non-null int64\n",
      "dtypes: float64(1), int64(1)\n",
      "memory usage: 33.8 KB\n"
     ]
    }
   ],
   "source": [
    "df_freight_quantity.info()"
   ]
  },
  {
   "cell_type": "code",
   "execution_count": 59,
   "metadata": {},
   "outputs": [
    {
     "data": {
      "text/plain": [
       "'Quantity'"
      ]
     },
     "execution_count": 59,
     "metadata": {},
     "output_type": "execute_result"
    }
   ],
   "source": [
    "df_freight_quantity.columns[1]"
   ]
  },
  {
   "cell_type": "code",
   "execution_count": 60,
   "metadata": {},
   "outputs": [
    {
     "name": "stdout",
     "output_type": "stream",
     "text": [
      "Number of NaN Freight : 0\n",
      "Number of NaN Quantity : 0\n"
     ]
    }
   ],
   "source": [
    "for i in df_freight_quantity.columns:\n",
    "    print('Number of NaN ' + i + ' : ' +str(sum(df_freight_quantity[i].isna())))"
   ]
  },
  {
   "cell_type": "code",
   "execution_count": 61,
   "metadata": {},
   "outputs": [
    {
     "name": "stdout",
     "output_type": "stream",
     "text": [
      "8.53      25\n",
      "3.52       6\n",
      "53.05      6\n",
      "352.69     6\n",
      "487.57     6\n",
      "17.55      6\n",
      "36.71      6\n",
      "353.07     6\n",
      "44.12      6\n",
      "4.99       5\n",
      "411.88     5\n",
      "108.26     5\n",
      "227.22     5\n",
      "94.77      5\n",
      "200.24     5\n",
      "149.49     5\n",
      "212.98     5\n",
      "30.34      5\n",
      "77.78      5\n",
      "24.49      5\n",
      "14.93      5\n",
      "147.06     5\n",
      "203.48     5\n",
      "6.27       5\n",
      "252.49     5\n",
      "97.18      5\n",
      "72.97      5\n",
      "76.07      5\n",
      "147.26     5\n",
      "810.05     5\n",
      "          ..\n",
      "5.44       1\n",
      "25.22      1\n",
      "2.38       1\n",
      "3.77       1\n",
      "193.37     1\n",
      "34.82      1\n",
      "46.69      1\n",
      "42.74      1\n",
      "14.62      1\n",
      "2.84       1\n",
      "1.96       1\n",
      "6.54       1\n",
      "7.13       1\n",
      "30.36      1\n",
      "11.92      1\n",
      "2.70       1\n",
      "23.60      1\n",
      "1.10       1\n",
      "69.19      1\n",
      "43.30      1\n",
      "1.28       1\n",
      "18.53      1\n",
      "15.51      1\n",
      "10.19      1\n",
      "4.40       1\n",
      "2.91       1\n",
      "29.98      1\n",
      "8.63       1\n",
      "121.82     1\n",
      "37.52      1\n",
      "Name: Freight, Length: 799, dtype: int64\n",
      "20     252\n",
      "30     194\n",
      "10     181\n",
      "15     169\n",
      "40     113\n",
      "12      92\n",
      "6       87\n",
      "25      80\n",
      "50      75\n",
      "35      71\n",
      "5       67\n",
      "24      58\n",
      "60      58\n",
      "4       55\n",
      "2       52\n",
      "21      50\n",
      "8       50\n",
      "18      47\n",
      "3       46\n",
      "14      36\n",
      "16      35\n",
      "9       30\n",
      "28      29\n",
      "70      28\n",
      "7       23\n",
      "36      21\n",
      "42      19\n",
      "1       17\n",
      "80      16\n",
      "45      14\n",
      "100     10\n",
      "55       9\n",
      "120      8\n",
      "65       8\n",
      "49       7\n",
      "48       5\n",
      "32       5\n",
      "44       4\n",
      "90       4\n",
      "13       3\n",
      "77       3\n",
      "110      3\n",
      "56       3\n",
      "84       2\n",
      "11       2\n",
      "27       2\n",
      "33       2\n",
      "39       2\n",
      "130      2\n",
      "63       1\n",
      "66       1\n",
      "22       1\n",
      "52       1\n",
      "54       1\n",
      "91       1\n",
      "Name: Quantity, dtype: int64\n"
     ]
    }
   ],
   "source": [
    "for i in df_freight_quantity.columns:\n",
    "    print(df_freight_quantity[i].value_counts())"
   ]
  },
  {
   "cell_type": "markdown",
   "metadata": {},
   "source": [
    "There are no NaN, no clear errors and no clear placeholder values"
   ]
  },
  {
   "cell_type": "markdown",
   "metadata": {},
   "source": [
    "## Explore"
   ]
  },
  {
   "cell_type": "code",
   "execution_count": 62,
   "metadata": {},
   "outputs": [
    {
     "data": {
      "image/png": "[encoded data removed]",
      "text/plain": [
       "<Figure size 432x288 with 1 Axes>"
      ]
     },
     "metadata": {
      "needs_background": "light"
     },
     "output_type": "display_data"
    }
   ],
   "source": [
    "plt.scatter(df_freight_quantity['Quantity'], df_freight_quantity['Freight'])\n",
    "plt.xlabel('Quantity')\n",
    "plt.ylabel('Freight Cost')\n",
    "plt.title('Quantity, Freight')\n",
    "plt.show()"
   ]
  },
  {
   "cell_type": "markdown",
   "metadata": {},
   "source": [
    "There appears to be a trend of increasing freight costs with increasing order quantities, there are high levels of heteroscedasticity."
   ]
  },
  {
   "cell_type": "markdown",
   "metadata": {},
   "source": [
    "## Model"
   ]
  },
  {
   "cell_type": "markdown",
   "metadata": {},
   "source": [
    "A comparison of small vs. large quantities and the freight cost will be completed by simplistically taking the mean value as the split between small and large."
   ]
  },
  {
   "cell_type": "code",
   "execution_count": 63,
   "metadata": {},
   "outputs": [],
   "source": [
    "mean_quantity = np.mean(df_freight_quantity['Quantity'])\n",
    "mean_freight = np.mean(df_freight_quantity['Freight'])\n",
    "small_quantity = df_freight_quantity.loc[df_freight_quantity['Quantity'] < mean_quantity]\n",
    "large_quantity = df_freight_quantity.loc[df_freight_quantity['Quantity'] >= mean_quantity]\n",
    "small_mean = np.mean(small_quantity)\n",
    "large_mean = np.mean(large_quantity)"
   ]
  },
  {
   "cell_type": "code",
   "execution_count": 64,
   "metadata": {
    "scrolled": false
   },
   "outputs": [
    {
     "name": "stdout",
     "output_type": "stream",
     "text": [
      "All Orders Mean Freight Cost: 96.2\n",
      "Small Quantity Mean Freight Cost: 62.16\n",
      "Large Quantity Mean Freight Cost: 147.45\n"
     ]
    },
    {
     "name": "stderr",
     "output_type": "stream",
     "text": [
      "C:\\Users\\chris\\Anaconda3\\lib\\site-packages\\scipy\\stats\\stats.py:1713: FutureWarning: Using a non-tuple sequence for multidimensional indexing is deprecated; use `arr[tuple(seq)]` instead of `arr[seq]`. In the future this will be interpreted as an array index, `arr[np.array(seq)]`, which will result either in an error or a different result.\n",
      "  return np.add.reduce(sorted[indexer] * weights, axis=axis) / sumval\n"
     ]
    },
    {
     "data": {
      "image/png": "[encoded data removed]",
      "text/plain": [
       "<Figure size 432x288 with 1 Axes>"
      ]
     },
     "metadata": {
      "needs_background": "light"
     },
     "output_type": "display_data"
    }
   ],
   "source": [
    "print('All Orders Mean Freight Cost: ' + str(round(mean_freight,2)))\n",
    "print('Small Quantity Mean Freight Cost: ' + str(round(small_mean[0],2)))\n",
    "print('Large Quantity Mean Freight Cost: ' + str(round(large_mean[0],2)))\n",
    "sns.distplot(df_freight_quantity['Freight'], norm_hist=True, bins=30, label='All data')\n",
    "sns.distplot(small_quantity['Freight'], norm_hist=True, bins=30, label='Small Quantity')\n",
    "sns.distplot(large_quantity['Freight'], norm_hist=True, bins=30, label='Large Quantity')\n",
    "plt.axvline(mean_freight, label='All Data Mean')\n",
    "plt.axvline(small_mean['Freight'], color = 'red', label='Small Quantity Mean')\n",
    "plt.axvline(large_mean['Freight'], color = 'purple', label='Large Quantity Mean')\n",
    "plt.xlabel('Freight Cost')\n",
    "plt.xlim(0)\n",
    "plt.title('Freight Cost; split small/large order quantity')\n",
    "plt.legend()\n",
    "plt.show()\n"
   ]
  },
  {
   "cell_type": "markdown",
   "metadata": {},
   "source": [
    "It can be seen from the plot and mean values that there is an increase in the cost of Freight when there is an increase in order quantity. To quantitify the extent of this effect the T-Value and the P-Value will be calculated."
   ]
  },
  {
   "cell_type": "markdown",
   "metadata": {},
   "source": [
    "Establishing the size effect one of the simplest solutions is a freight cost per item."
   ]
  },
  {
   "cell_type": "code",
   "execution_count": 74,
   "metadata": {},
   "outputs": [
    {
     "name": "stdout",
     "output_type": "stream",
     "text": [
      "Mean freight cost per item: 5.362\n",
      "Std Dev freight cost per item: 9.039\n"
     ]
    },
    {
     "data": {
      "image/png": "[encoded data removed]",
      "text/plain": [
       "<Figure size 432x288 with 1 Axes>"
      ]
     },
     "metadata": {
      "needs_background": "light"
     },
     "output_type": "display_data"
    }
   ],
   "source": [
    "df_freight_item = df_freight_quantity['Freight']/df_freight_quantity['Quantity']\n",
    "print('Mean freight cost per item: '+str(round(df_freight_item.mean(),3)))\n",
    "print('Std Dev freight cost per item: '+str(round(df_freight_item.std(),3)))\n",
    "plt.hist(df_freight_item, bins=20)\n",
    "plt.show()"
   ]
  },
  {
   "cell_type": "markdown",
   "metadata": {},
   "source": [
    "## Interpret"
   ]
  },
  {
   "cell_type": "code",
   "execution_count": 314,
   "metadata": {
    "scrolled": true
   },
   "outputs": [
    {
     "name": "stdout",
     "output_type": "stream",
     "text": [
      "T Value: 15.351397807300273\n",
      "P Value: 0.0\n"
     ]
    }
   ],
   "source": [
    "results = stats.ttest_ind(large_quantity['Freight'],small_quantity['Freight'])\n",
    "t_values_price_quantity = results[0]\n",
    "p_values_price_quantity = round(results[1]/2, 8)\n",
    "print('T Value: ' + str(t_values_price_quantity))\n",
    "print('P Value: ' + str(p_values_price_quantity))"
   ]
  },
  {
   "cell_type": "code",
   "execution_count": 313,
   "metadata": {},
   "outputs": [
    {
     "name": "stdout",
     "output_type": "stream",
     "text": [
      "T-Critical: 1.646\n"
     ]
    }
   ],
   "source": [
    "print('T-Critical: ' + str(round(t.ppf(1-0.05, df=len(df_freight_quantity)-1),3)))"
   ]
  },
  {
   "cell_type": "markdown",
   "metadata": {},
   "source": [
    "### Conclusion"
   ]
  },
  {
   "cell_type": "markdown",
   "metadata": {},
   "source": [
    "Both the T-Value and the P-Value are substantially above/below the thresholds set for confirming significance. The T-Value exceeds the T-Crtical Value and the P-Value is below the Alpha value of 0.05."
   ]
  }
 ],
 "metadata": {
  "kernelspec": {
   "display_name": "Python 3",
   "language": "python",
   "name": "python3"
  },
  "language_info": {
   "codemirror_mode": {
    "name": "ipython",
    "version": 3
   },
   "file_extension": ".py",
   "mimetype": "text/x-python",
   "name": "python",
   "nbconvert_exporter": "python",
   "pygments_lexer": "ipython3",
   "version": "3.7.0"
  }
 },
 "nbformat": 4,
 "nbformat_minor": 2
}
